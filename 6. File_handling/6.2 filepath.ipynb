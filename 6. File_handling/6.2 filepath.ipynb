{
 "cells": [
  {
   "cell_type": "code",
   "execution_count": 3,
   "metadata": {},
   "outputs": [
    {
     "name": "stdout",
     "output_type": "stream",
     "text": [
      "current working directory c:\\aditya\\ML\\CODE\\6. File_handling\n"
     ]
    }
   ],
   "source": [
    "import os \n",
    "cwd = os.getcwd()\n",
    "print(f\"current working directory {cwd}\")"
   ]
  },
  {
   "cell_type": "code",
   "execution_count": 5,
   "metadata": {},
   "outputs": [
    {
     "name": "stdout",
     "output_type": "stream",
     "text": [
      "Directory 'hello' created\n"
     ]
    }
   ],
   "source": [
    "## create a new directory \n",
    "\n",
    "new_directory = \"hello\"\n",
    "os.mkdir(new_directory)\n",
    "print(f\"Directory '{new_directory}' created\")"
   ]
  },
  {
   "cell_type": "code",
   "execution_count": 6,
   "metadata": {},
   "outputs": [
    {
     "name": "stdout",
     "output_type": "stream",
     "text": [
      "['6.1-fileoperation.ipynb', '6.2 filepath.ipynb', 'destination.txt', 'example.bin', 'example.txt', 'package']\n"
     ]
    }
   ],
   "source": [
    "# Listing Files and Directories\n",
    "items = os.listdir('.')  #dot means we are looking the current working directory\n",
    "print(items)"
   ]
  },
  {
   "cell_type": "code",
   "execution_count": 10,
   "metadata": {},
   "outputs": [
    {
     "name": "stdout",
     "output_type": "stream",
     "text": [
      "c:\\aditya\\ML\\CODE\\6. File_handling\\folder\\file.txt\n"
     ]
    }
   ],
   "source": [
    "### Joining Paths [impt]\n",
    "\n",
    "dire_name = \"folder\"\n",
    "file_name = \"file.txt\"\n",
    "\n",
    "full_path = os.path.join(os.getcwd(),dire_name,file_name) # or os.path.join(dire_name,file_name) for relative path\n",
    "print(full_path)\n",
    "\n",
    "# absolute path -> complete path\n",
    "# relative path -> file_name relative dire_name "
   ]
  },
  {
   "cell_type": "code",
   "execution_count": 11,
   "metadata": {},
   "outputs": [
    {
     "name": "stdout",
     "output_type": "stream",
     "text": [
      "the path example1.txt does not exist\n"
     ]
    }
   ],
   "source": [
    "#checking if a path is present or not\n",
    "path = \"example1.txt\"\n",
    "if os.path.exists(path):\n",
    "    print(f\"the path {path} exists\")\n",
    "else:\n",
    "    print(f\"the path {path} does not exist\")"
   ]
  },
  {
   "cell_type": "code",
   "execution_count": 14,
   "metadata": {},
   "outputs": [
    {
     "name": "stdout",
     "output_type": "stream",
     "text": [
      "example.txt is a file\n"
     ]
    }
   ],
   "source": [
    "# another method to check  if a path is a file or directory\n",
    "\n",
    "path = \"example.txt\"\n",
    "\n",
    "if os.path.isfile(path):\n",
    "    print(f\"{path} is a file\")\n",
    "elif os.path.isdire(path):\n",
    "    print(f\"{path} is a directory\")\n",
    "else:\n",
    "    print(f\"{path} is neither a file nor a directory\")\n",
    "\n"
   ]
  },
  {
   "cell_type": "code",
   "execution_count": 15,
   "metadata": {},
   "outputs": [
    {
     "name": "stdout",
     "output_type": "stream",
     "text": [
      "c:\\aditya\\ML\\CODE\\6. File_handling\\example.txt\n"
     ]
    }
   ],
   "source": [
    "# getting the absolute path -> another method\n",
    "relative_path = 'example.txt'\n",
    "absolute_path  = os.path.abspath(relative_path)\n",
    "print(absolute_path)\n"
   ]
  }
 ],
 "metadata": {
  "kernelspec": {
   "display_name": "Python 3",
   "language": "python",
   "name": "python3"
  },
  "language_info": {
   "codemirror_mode": {
    "name": "ipython",
    "version": 3
   },
   "file_extension": ".py",
   "mimetype": "text/x-python",
   "name": "python",
   "nbconvert_exporter": "python",
   "pygments_lexer": "ipython3",
   "version": "3.13.1"
  }
 },
 "nbformat": 4,
 "nbformat_minor": 2
}
