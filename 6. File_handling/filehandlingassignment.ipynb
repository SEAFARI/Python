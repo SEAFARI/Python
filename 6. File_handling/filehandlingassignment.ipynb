{
 "cells": [
  {
   "cell_type": "markdown",
   "metadata": {},
   "source": [
    "# Module: File Handling Assignments\n",
    "## Lesson: File Handling and Operations\n",
    "### Assignment 1: Reading a File\n",
    "\n",
    "Write a function that reads the contents of a file named `sample.txt` and prints each line.\n",
    "\n",
    "### Assignment 2: Writing to a File\n",
    "\n",
    "Write a function that writes a list of strings to a file named `output.txt`, with each string on a new line.\n",
    "\n",
    "### Assignment 3: Copying a File\n",
    "\n",
    "Write a function that copies the contents of a file named `source.txt` to a new file named `destination.txt`.\n",
    "\n",
    "### Assignment 4: Appending to a File\n",
    "\n",
    "Write a function that appends a given string to the end of a file named `log.txt`.\n",
    "\n",
    "### Assignment 5: Counting Words in a File\n",
    "\n",
    "Write a function that reads the contents of a file named `document.txt` and returns the number of words in the file.\n",
    "\n",
    "### Assignment 6: Finding and Replacing Text\n",
    "\n",
    "Write a function that finds and replaces all occurrences of a given word in a file named `data.txt` with another word.\n",
    "\n",
    "### Assignment 7: Reading a File in Reverse\n",
    "\n",
    "Write a function that reads the contents of a file named `reverse.txt` and prints each line in reverse order.\n",
    "\n",
    "### Assignment 8: Counting Lines, Words, and Characters\n",
    "\n",
    "Write a function that reads the contents of a file named `stats.txt` and returns the number of lines, words, and characters in the file.\n",
    "\n",
    "### Assignment 9: Merging Multiple Files\n",
    "\n",
    "Write a function that merges the contents of multiple files into a single file named `merged.txt`.\n",
    "\n",
    "### Assignment 10: Splitting a Large File\n",
    "\n",
    "Write a function that splits a large file named `large.txt` into smaller files of 100 lines each.\n",
    "\n",
    "### Assignment 11: Creating a Log File\n",
    "\n",
    "Write a function that creates a log file named `activity.log` and writes log messages with timestamps.\n",
    "\n",
    "### Assignment 12: Binary File Operations\n",
    "\n",
    "Write a function that reads a binary file named `image.bin` and writes its contents to another binary file named `copy_image.bin`.\n",
    "\n",
    "### Assignment 13: CSV File Operations\n",
    "\n",
    "Write a function that reads a CSV file named `data.csv` and prints its contents as a list of dictionaries.\n",
    "\n",
    "### Assignment 14: JSON File Operations\n",
    "\n",
    "Write a function that reads a JSON file named `data.json` and prints its contents as a Python dictionary.\n",
    "\n",
    "### Assignment 15: File Permission Handling\n",
    "\n",
    "Write a function that attempts to read a file named `protected.txt` and handles any permission errors gracefully by printing an error message."
   ]
  },
  {
   "cell_type": "markdown",
   "id": "fc448a8d",
   "metadata": {},
   "source": [
    "# Module: File Handling Assignments\n",
    "## Lesson: File Handling and Operations\n",
    "### Assignment 1: Reading a File\n",
    "\n",
    "Write a function that reads the contents of a file named `sample.txt` and prints each line."
   ]
  },
  {
   "cell_type": "code",
   "execution_count": 12,
   "metadata": {},
   "outputs": [],
   "source": [
    "def readfile(filename):   # for reading the whole content of the file\n",
    "    with open(filename,'r') as file:\n",
    "        content = file.read()\n",
    "        print(content)\n",
    "        \n",
    "def readfile(filename):   # for reading file line by line\n",
    "    with open(filename,'r') as file:\n",
    "        for line in file:\n",
    "            print(line.strip())\n"
   ]
  },
  {
   "cell_type": "markdown",
   "id": "6da7c8c0",
   "metadata": {},
   "source": [
    "### Assignment 2: Writing to a File\n",
    "\n",
    "Write a function that writes a list of strings to a file named `output.txt`, with each string on a new line."
   ]
  },
  {
   "cell_type": "code",
   "execution_count": 13,
   "id": "50831478",
   "metadata": {},
   "outputs": [],
   "source": [
    "def writefile(lines,filename):\n",
    "    with open(filename,'w') as file:\n",
    "        for line in lines:\n",
    "            file.write(line + '/n')"
   ]
  },
  {
   "cell_type": "markdown",
   "id": "daeb71cb",
   "metadata": {},
   "source": [
    "### Assignment 3: Copying a File\n",
    "\n",
    "Write a function that copies the contents of a file named `source.txt` to a new file named `destination.txt`."
   ]
  },
  {
   "cell_type": "code",
   "execution_count": 14,
   "id": "4867cc11",
   "metadata": {},
   "outputs": [],
   "source": [
    "# method 1\n",
    "def copyfile(souce, destination):\n",
    "    with open(souce,'w') as file:\n",
    "        copy_text = file.copy()\n",
    "        with open(destination,'w') as file:\n",
    "            file.write(copy_text)\n",
    " \n",
    "# better method\n",
    "\n",
    "def copyfile(souce,destination):\n",
    "    with open(souce,'r') as src:\n",
    "        with open(destination,'w' ) as dst:  \n",
    "            dst.write(src.read())\n",
    "        "
   ]
  },
  {
   "cell_type": "markdown",
   "id": "852d19c4",
   "metadata": {},
   "source": [
    "### Assignment 4: Appending to a File\n",
    "\n",
    "Write a function that appends a given string to the end of a file named `log.txt`."
   ]
  },
  {
   "cell_type": "code",
   "execution_count": 15,
   "id": "2aecfc46",
   "metadata": {},
   "outputs": [],
   "source": [
    "def append_str(str,filename):\n",
    "    with open(filename,'a') as file:\n",
    "        file.write(str + '\\n')"
   ]
  },
  {
   "cell_type": "markdown",
   "id": "a62cbba5",
   "metadata": {},
   "source": [
    "### Assignment 5: Counting Words in a File\n",
    "\n",
    "Write a function that reads the contents of a file named `document.txt` and returns the number of words in the file."
   ]
  },
  {
   "cell_type": "code",
   "execution_count": 16,
   "id": "22768712",
   "metadata": {},
   "outputs": [],
   "source": [
    "def count_words(filename):\n",
    "    with open(filename,'r') as file:\n",
    "        text = file.read()\n",
    "        words = text.split()\n",
    "        return len(words)\n",
    "    \n",
    "    \n",
    "    # text = \"Hello world! Welcome to Python.\"\n",
    "    # text.split() = ['Hello', 'world!', 'Welcome', 'to', 'Python.']"
   ]
  },
  {
   "cell_type": "markdown",
   "id": "2e22993f",
   "metadata": {},
   "source": [
    "### Assignment 6: Finding and Replacing Text\n",
    "\n",
    "Write a function that finds and replaces all occurrences of a given word in a file named `data.txt` with another word."
   ]
  },
  {
   "cell_type": "code",
   "execution_count": 17,
   "id": "5158a099",
   "metadata": {},
   "outputs": [],
   "source": [
    "def find_and_replace(filename, old_word, new_word):\n",
    "    with open(filename,'r') as file:\n",
    "        text = file.read()\n",
    "        new_text = file.replace(old_word,new_word)\n",
    "    with open(filename,'w') as file:\n",
    "        file.write(new_text)\n",
    "                "
   ]
  },
  {
   "cell_type": "markdown",
   "id": "84143645",
   "metadata": {},
   "source": [
    "### Assignment 7: Reading a File in Reverse\n",
    "\n",
    "Write a function that reads the contents of a file named `reverse.txt` and prints each line in reverse order."
   ]
  },
  {
   "cell_type": "code",
   "execution_count": null,
   "id": "6829bfdc",
   "metadata": {},
   "outputs": [],
   "source": [
    "def read_reverse(filename):\n",
    "    with open(filename, 'r') as file:\n",
    "        lines = file.readlines()\n",
    "    for line in reversed(lines):\n",
    "        print(line.strip())"
   ]
  },
  {
   "cell_type": "markdown",
   "id": "bb077df0",
   "metadata": {},
   "source": [
    "### Assignment 8: Counting Lines, Words, and Characters\n",
    "\n",
    "Write a function that reads the contents of a file named `stats.txt` and returns the number of lines, words, and characters in the file."
   ]
  },
  {
   "cell_type": "code",
   "execution_count": 18,
   "id": "62f1a281",
   "metadata": {},
   "outputs": [],
   "source": [
    "def count_lwc(filename):\n",
    "    with open(filename,'r') as file:\n",
    "        lines = file.read()\n",
    "        words = sum(len(lines) for line in lines)\n",
    "        characters = sum(len(line) for line in lines)\n",
    "    \n",
    "    return len(lines), words, characters"
   ]
  },
  {
   "cell_type": "markdown",
   "id": "de365dad",
   "metadata": {},
   "source": [
    "### Assignment 9: Merging Multiple Files\n",
    "\n",
    "Write a function that merges the contents of multiple files into a single file named `merged.txt`."
   ]
  },
  {
   "cell_type": "code",
   "execution_count": 19,
   "id": "866ce9dd",
   "metadata": {},
   "outputs": [],
   "source": [
    "def merge_files(file_list,output_file):\n",
    "    with open(output_file,'a') as file:\n",
    "        for file_name in file_list:\n",
    "            with open(file_name,'r') as f:\n",
    "                file.write(f.read() + '/n')"
   ]
  },
  {
   "cell_type": "markdown",
   "id": "93345e54",
   "metadata": {},
   "source": [
    "### Assignment 10: Splitting a Large File\n",
    "\n",
    "Write a function that splits a large file named `large.txt` into smaller files of 100 lines each."
   ]
  },
  {
   "cell_type": "code",
   "execution_count": 1,
   "id": "423c5fd5",
   "metadata": {},
   "outputs": [],
   "source": [
    "def split_file(filename, lines_per_file):\n",
    "    with open(filename, 'r') as file:\n",
    "        lines = file.readlines()\n",
    "    for i in range(0, len(lines), lines_per_file):    # syntax => range(start, stop, step)\n",
    "        with open(f'{filename}_part{i//lines_per_file + 1}.txt', 'w') as part_file:\n",
    "            part_file.writelines(lines[i:i + lines_per_file])\n",
    "\n",
    "# Test\n",
    "# split_file('large.txt', 100)\n",
    "            "
   ]
  },
  {
   "cell_type": "markdown",
   "id": "e2ee8cd9",
   "metadata": {},
   "source": [
    "### Assignment 11: Creating a Log File\n",
    "\n",
    "Write a function that creates a log file named `activity.log` and writes log messages with timestamps."
   ]
  },
  {
   "cell_type": "code",
   "execution_count": 29,
   "id": "6c8831ac",
   "metadata": {},
   "outputs": [],
   "source": [
    "import datetime\n",
    "\n",
    "def log_message(message,filename=\"activity.log\"):\n",
    "        timestamp = datetime.datetime.now().isoformat()\n",
    "        with open(filename,'a') as file:\n",
    "            file.write(f\"{timestamp} {message} \\n\")\n",
    "            \n",
    "log_message('This is a log message.')"
   ]
  },
  {
   "cell_type": "markdown",
   "id": "8ff8603f",
   "metadata": {},
   "source": [
    "### Assignment 12: Binary File Operations\n",
    "\n",
    "Write a function that reads a binary file named `image.bin` and writes its contents to another binary file named `copy_image.bin`."
   ]
  },
  {
   "cell_type": "code",
   "execution_count": 1,
   "id": "51cdef50",
   "metadata": {},
   "outputs": [],
   "source": [
    "def copy_binary_file(old_filename,new_filename):\n",
    "    with open(old_filename,'rb') as file:\n",
    "        data = file.read()\n",
    "    with open(new_filename,'wb') as file_new:\n",
    "        file_new.write(data)\n",
    "        "
   ]
  },
  {
   "cell_type": "markdown",
   "id": "479d660d",
   "metadata": {},
   "source": [
    "### Assignment 13: CSV File Operations\n",
    "\n",
    "Write a function that reads a CSV file named `data.csv` and prints its contents as a list of dictionaries."
   ]
  },
  {
   "cell_type": "code",
   "execution_count": 6,
   "id": "b9e6bec1",
   "metadata": {},
   "outputs": [
    {
     "data": {
      "text/plain": [
       "[{'hello ? how are you?': 'are u good?'},\n",
       " {'hello ? how are you?': 'i am fine. '},\n",
       " {'hello ? how are you?': 'thanks for the coffe'}]"
      ]
     },
     "execution_count": 6,
     "metadata": {},
     "output_type": "execute_result"
    }
   ],
   "source": [
    "import csv\n",
    "\n",
    "def read_csv_as_dict(filename):\n",
    "    with open(filename,'r') as file:\n",
    "        reader = csv.DictReader(file)\n",
    "        return list(reader)\n",
    "\n",
    "read_csv_as_dict('example.csv')"
   ]
  },
  {
   "cell_type": "markdown",
   "id": "9b42bb82",
   "metadata": {},
   "source": [
    "### Assignment 14: JSON File Operations\n",
    "\n",
    "Write a function that reads a JSON file named `data.json` and prints its contents as a Python dictionary."
   ]
  },
  {
   "cell_type": "code",
   "execution_count": 7,
   "id": "e8a4a395",
   "metadata": {},
   "outputs": [],
   "source": [
    "import json \n",
    "\n",
    "def json_as_dict(filename):\n",
    "    with open(filename,'r') as file:\n",
    "        reader = json.load(file)\n",
    "        return reader\n",
    "  \n",
    "# print(json_as_dict('data.json'))  \n",
    "        "
   ]
  },
  {
   "cell_type": "markdown",
   "id": "79872aa6",
   "metadata": {},
   "source": [
    "### Assignment 15: File Permission Handling\n",
    "\n",
    "Write a function that attempts to read a file named `protected.txt` and handles any permission errors gracefully by printing an error message."
   ]
  },
  {
   "cell_type": "code",
   "execution_count": 12,
   "id": "ec0e52bb",
   "metadata": {},
   "outputs": [
    {
     "name": "stdout",
     "output_type": "stream",
     "text": [
      "\n"
     ]
    }
   ],
   "source": [
    "def read_protected_file(filename):\n",
    "    try:\n",
    "        with open(filename,'r') as file:\n",
    "            data = file.read()\n",
    "            print(data)\n",
    "    except PermissionError as pr:\n",
    "        print(f\"permission error{e}\")\n",
    "        \n",
    "# read_protected_file('protected.txt')      "
   ]
  }
 ],
 "metadata": {
  "kernelspec": {
   "display_name": "Python 3",
   "language": "python",
   "name": "python3"
  },
  "language_info": {
   "codemirror_mode": {
    "name": "ipython",
    "version": 3
   },
   "file_extension": ".py",
   "mimetype": "text/x-python",
   "name": "python",
   "nbconvert_exporter": "python",
   "pygments_lexer": "ipython3",
   "version": "3.13.1"
  }
 },
 "nbformat": 4,
 "nbformat_minor": 5
}
