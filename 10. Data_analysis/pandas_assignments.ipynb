{
 "cells": [
  {
   "cell_type": "markdown",
   "metadata": {},
   "source": [
    "# Module: Pandas Assignments\n",
    "## Lesson: Pandas\n",
    "### Assignment 1: DataFrame Creation and Indexing\n",
    "\n",
    "1. Create a Pandas DataFrame with 4 columns and 6 rows filled with random integers. Set the index to be the first column.\n",
    "2. Create a Pandas DataFrame with columns 'A', 'B', 'C' and index 'X', 'Y', 'Z'. Fill the DataFrame with random integers and access the element at row 'Y' and column 'B'.\n",
    "\n",
    "### Assignment 2: DataFrame Operations\n",
    "\n",
    "1. Create a Pandas DataFrame with 3 columns and 5 rows filled with random integers. Add a new column that is the product of the first two columns.\n",
    "2. Create a Pandas DataFrame with 3 columns and 4 rows filled with random integers. Compute the row-wise and column-wise sum.\n",
    "\n",
    "### Assignment 3: Data Cleaning\n",
    "\n",
    "1. Create a Pandas DataFrame with 3 columns and 5 rows filled with random integers. Introduce some NaN values. Fill the NaN values with the mean of the respective columns.\n",
    "2. Create a Pandas DataFrame with 4 columns and 6 rows filled with random integers. Introduce some NaN values. Drop the rows with any NaN values.\n",
    "\n",
    "### Assignment 4: Data Aggregation\n",
    "\n",
    "1. Create a Pandas DataFrame with 2 columns: 'Category' and 'Value'. Fill the 'Category' column with random categories ('A', 'B', 'C') and the 'Value' column with random integers. Group the DataFrame by 'Category' and compute the sum and mean of 'Value' for each category.\n",
    "2. Create a Pandas DataFrame with 3 columns: 'Product', 'Category', and 'Sales'. Fill the DataFrame with random data. Group the DataFrame by 'Category' and compute the total sales for each category.\n",
    "\n",
    "### Assignment 5: Merging DataFrames\n",
    "\n",
    "1. Create two Pandas DataFrames with a common column. Merge the DataFrames using the common column.\n",
    "2. Create two Pandas DataFrames with different columns. Concatenate the DataFrames along the rows and along the columns.\n",
    "\n",
    "### Assignment 6: Time Series Analysis\n",
    "\n",
    "1. Create a Pandas DataFrame with a datetime index and one column filled with random integers. Resample the DataFrame to compute the monthly mean of the values.\n",
    "2. Create a Pandas DataFrame with a datetime index ranging from '2021-01-01' to '2021-12-31' and one column filled with random integers. Compute the rolling mean with a window of 7 days.\n",
    "\n",
    "### Assignment 7: MultiIndex DataFrame\n",
    "\n",
    "1. Create a Pandas DataFrame with a MultiIndex (hierarchical index). Perform some basic indexing and slicing operations on the MultiIndex DataFrame.\n",
    "2. Create a Pandas DataFrame with MultiIndex consisting of 'Category' and 'SubCategory'. Fill the DataFrame with random data and compute the sum of values for each 'Category' and 'SubCategory'.\n",
    "\n",
    "### Assignment 8: Pivot Tables\n",
    "\n",
    "1. Create a Pandas DataFrame with columns 'Date', 'Category', and 'Value'. Create a pivot table to compute the sum of 'Value' for each 'Category' by 'Date'.\n",
    "2. Create a Pandas DataFrame with columns 'Year', 'Quarter', and 'Revenue'. Create a pivot table to compute the mean 'Revenue' for each 'Quarter' by 'Year'.\n",
    "\n",
    "### Assignment 9: Applying Functions\n",
    "\n",
    "1. Create a Pandas DataFrame with 3 columns and 5 rows filled with random integers. Apply a function that doubles the values of the DataFrame.\n",
    "2. Create a Pandas DataFrame with 3 columns and 6 rows filled with random integers. Apply a lambda function to create a new column that is the sum of the existing columns.\n",
    "\n",
    "### Assignment 10: Working with Text Data\n",
    "\n",
    "1. Create a Pandas Series with 5 random text strings. Convert all the strings to uppercase.\n",
    "2. Create a Pandas Series with 5 random text strings. Extract the first three characters of each string.\n"
   ]
  },
  {
   "cell_type": "markdown",
   "id": "efde090b",
   "metadata": {},
   "source": [
    "# Module: Pandas Assignments\n",
    "## Lesson: Pandas\n",
    "### Assignment 1: DataFrame Creation and Indexing\n",
    "\n",
    "1. Create a Pandas DataFrame with 4 columns and 6 rows filled with random integers. Set the index to be the first column."
   ]
  },
  {
   "cell_type": "code",
   "execution_count": 11,
   "id": "b278c01e",
   "metadata": {},
   "outputs": [
    {
     "name": "stdout",
     "output_type": "stream",
     "text": [
      "original dataframe: \n",
      "    A   B   C   D\n",
      "0  20  26  26  13\n",
      "1   4  12  29  29\n",
      "2  21  22  22  20\n",
      "3   2   3   6  19\n",
      "4  23  27   5  11\n",
      "5   3   1   9   3\n",
      "changed dataframe: \n",
      " \n",
      "     B   C   D\n",
      "A             \n",
      "20  26  26  13\n",
      "4   12  29  29\n",
      "21  22  22  20\n",
      "2    3   6  19\n",
      "23  27   5  11\n",
      "3    1   9   3\n"
     ]
    }
   ],
   "source": [
    "import pandas as pd\n",
    "import numpy as np\n",
    "\n",
    "# creating the pandas dataframe\n",
    "df = pd.DataFrame(np.random.randint(1,30,size=(6,4)),columns = ['A','B','C','D'])\n",
    "print(\"original dataframe: \")\n",
    "print(df)\n",
    "\n",
    "#  set the index to be the first column\n",
    "df.set_index('A',inplace=True)\n",
    "print(\"changed dataframe: \\n \")\n",
    "print(df)\n",
    "\n",
    "\n",
    "# A was before column name , but now it is column index\n",
    "# so instead of 0 as index , we now write A\n"
   ]
  },
  {
   "cell_type": "markdown",
   "id": "2a188309",
   "metadata": {},
   "source": [
    "2. Create a Pandas DataFrame with columns 'A', 'B', 'C' and index 'X', 'Y', 'Z'. Fill the DataFrame with random integers and access the element at row 'Y' and column 'B'."
   ]
  },
  {
   "cell_type": "code",
   "execution_count": null,
   "id": "61c9c58b",
   "metadata": {},
   "outputs": [
    {
     "name": "stdout",
     "output_type": "stream",
     "text": [
      "original dataframe: \n",
      "    A   B   C   D\n",
      "X   6   1  15   3\n",
      "Y   2  25   3   1\n",
      "Z  20  24  13  20\n",
      "the element is : 25\n"
     ]
    }
   ],
   "source": [
    "\n",
    "#   syntax =>  df.at['index_label', 'column_label']\n",
    "\n",
    "df = pd.DataFrame(np.random.randint(1,30,size=(3,4)),columns = ['A','B','C','D'],index=['X','Y','Z'])\n",
    "print(\"original dataframe: \")\n",
    "print(df)\n",
    "\n",
    "# accessing the element \n",
    "element = df.at['Y','B']\n",
    "print(f\"the element is : {element}\")"
   ]
  },
  {
   "cell_type": "markdown",
   "id": "118f3378",
   "metadata": {},
   "source": [
    "### Assignment 2: DataFrame Operations\n",
    "\n",
    "1. Create a Pandas DataFrame with 3 columns and 5 rows filled with random integers. Add a new column that is the product of the first two columns."
   ]
  },
  {
   "cell_type": "code",
   "execution_count": 30,
   "id": "de1e145a",
   "metadata": {},
   "outputs": [
    {
     "name": "stdout",
     "output_type": "stream",
     "text": [
      "original dataframe: \n",
      "   0  1  2  3  4\n",
      "0  2  2  3  2  1\n",
      "1  1  4  1  3  4\n",
      "2  2  1  1  4  2\n",
      "\n",
      " new dataframe after product: \n",
      "   0  1  2  3  4  5\n",
      "0  2  2  3  2  1  4\n",
      "1  1  4  1  3  4  4\n",
      "2  2  1  1  4  2  2\n"
     ]
    }
   ],
   "source": [
    "df = pd.DataFrame(np.random.randint(1,5,size=(3,5)))\n",
    "print(\"original dataframe: \")\n",
    "print(df)\n",
    "\n",
    "# cal the prodcut \n",
    "product = df[0] * df[1]\n",
    "\n",
    "# adding a 5th column containing the product of the first two columns of the df\n",
    "df['5'] = product\n",
    "print(\"\\n new dataframe after product: \")\n",
    "print(df)\n"
   ]
  },
  {
   "cell_type": "markdown",
   "id": "39c1d533",
   "metadata": {},
   "source": [
    "2. Create a Pandas DataFrame with 3 columns and 4 rows filled with random integers. Compute the row-wise and column-wise sum."
   ]
  },
  {
   "cell_type": "code",
   "execution_count": 33,
   "id": "e9d2ff42",
   "metadata": {},
   "outputs": [
    {
     "name": "stdout",
     "output_type": "stream",
     "text": [
      "original dataframe: \n",
      "   0  1  2  3\n",
      "0  3  3  3  1\n",
      "1  4  2  2  4\n",
      "2  2  2  4  1\n",
      "the row sum is : \n",
      " 0    10\n",
      "1    12\n",
      "2     9\n",
      "dtype: int64\n",
      "the column sum is : \n",
      " 0    9\n",
      "1    7\n",
      "2    9\n",
      "3    6\n",
      "dtype: int64\n"
     ]
    }
   ],
   "source": [
    "'''Axis 0 (Rows):\n",
    "Think of axis 0 as the \"vertical\" axis that runs along the rows.\n",
    "Operations that use axis=0 will be applied down the rows.\n",
    "When you sum with axis=0, you are summing each column's values.\n",
    "\n",
    "Axis 1 (Columns):\n",
    "Think of axis 1 as the \"horizontal\" axis that runs along the columns.\n",
    "Operations that use axis=1 will be applied across the columns.\n",
    "When you sum with axis=1, you are summing each row's values.'''\n",
    "\n",
    "\n",
    "df = pd.DataFrame(np.random.randint(1,5,size=(3,4)))\n",
    "print(\"original dataframe: \")\n",
    "print(df)\n",
    "\n",
    "row_sum = df.sum(axis=1)\n",
    "column_sum = df.sum(axis=0)\n",
    "\n",
    "print(f\"the row sum is : \\n {row_sum}\")\n",
    "print(f\"the column sum is : \\n {column_sum}\")\n",
    "\n"
   ]
  },
  {
   "cell_type": "markdown",
   "id": "a579176c",
   "metadata": {},
   "source": [
    "### Assignment 3: Data Cleaning\n",
    "\n",
    "1. Create a Pandas DataFrame with 3 columns and 5 rows filled with random integers. Introduce some NaN values. Fill the NaN values with the mean of the respective columns."
   ]
  },
  {
   "cell_type": "code",
   "execution_count": null,
   "id": "0b1ac051",
   "metadata": {},
   "outputs": [
    {
     "name": "stdout",
     "output_type": "stream",
     "text": [
      "original dataframe: \n",
      "    0   1   2   3\n",
      "0   3   1   7  17\n",
      "1  19  17  15   4\n",
      "2   6  13   5   4\n",
      "\n",
      "Dataframe after replacing values greater than 10 with NaN: \n",
      "     0    1    2    3\n",
      "0  3.0  1.0  7.0  NaN\n",
      "1  NaN  NaN  NaN  4.0\n",
      "2  6.0  NaN  5.0  4.0\n",
      "new dataframe with nan replace with mean: \n",
      "    0  1  2  3\n",
      "0  3  1  7  4\n",
      "1  4  1  6  4\n",
      "2  6  1  5  4\n"
     ]
    }
   ],
   "source": [
    "df = pd.DataFrame(np.random.randint(1,20,size=(3,4)))\n",
    "print(\"original dataframe: \")\n",
    "print(df)\n",
    "\n",
    "df[df>10] = np.nan\n",
    "print(f\"\\nDataframe after replacing values greater than 10 with NaN: \\n{df}\")\n",
    "\n",
    "# filling the mean\n",
    "df_new = df.fillna(df.mean()).astype(int)  # default axis =0 , means mean of the column\n",
    "print(f\"new dataframe with nan replace with mean: \\n {df_new}\")"
   ]
  }
 ],
 "metadata": {
  "kernelspec": {
   "display_name": "Python 3",
   "language": "python",
   "name": "python3"
  },
  "language_info": {
   "codemirror_mode": {
    "name": "ipython",
    "version": 3
   },
   "file_extension": ".py",
   "mimetype": "text/x-python",
   "name": "python",
   "nbconvert_exporter": "python",
   "pygments_lexer": "ipython3",
   "version": "3.13.1"
  }
 },
 "nbformat": 4,
 "nbformat_minor": 5
}
