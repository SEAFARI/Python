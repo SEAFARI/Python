{
 "cells": [
  {
   "cell_type": "markdown",
   "id": "6cade624",
   "metadata": {},
   "source": [
    "# Module 3: Data Structures Assignments\n",
    "## Lesson 3.2: Tuples\n",
    "### Assignment 1: Creating and Accessing Tuples\n",
    "\n",
    "Create a tuple with the first 10 positive integers. Print the tuple.\n",
    "\n",
    "### Assignment 2: Accessing Tuple Elements\n",
    "\n",
    "Print the first, middle, and last elements of the tuple created in Assignment 1.\n",
    "\n",
    "### Assignment 3: Tuple Slicing\n",
    "\n",
    "Print the first three elements, the last three elements, and the elements from index 2 to 5 of the tuple created in Assignment 1.\n",
    "\n",
    "### Assignment 4: Nested Tuples\n",
    "\n",
    "Create a nested tuple representing a 3x3 matrix and print the matrix. Access and print the element at the second row and third column.\n",
    "\n",
    "### Assignment 5: Tuple Concatenation\n",
    "\n",
    "Concatenate two tuples: (1, 2, 3) and (4, 5, 6). Print the resulting tuple.\n",
    "\n",
    "### Assignment 6: Tuple Methods\n",
    "\n",
    "Create a tuple with duplicate elements and count the occurrences of an element. Find the index of the first occurrence of an element in the tuple.\n",
    "\n",
    "### Assignment 7: Unpacking Tuples\n",
    "\n",
    "Create a tuple with 5 elements and unpack it into 5 variables. Print the variables.\n",
    "\n",
    "### Assignment 8: Tuple Conversion\n",
    "\n",
    "Convert a list of the first 5 positive integers to a tuple. Print the tuple.\n",
    "\n",
    "### Assignment 9: Tuple of Tuples\n",
    "\n",
    "Create a tuple containing 3 tuples, each with 3 elements. Print the tuple of tuples.\n",
    "\n",
    "### Assignment 10: Tuple and List\n",
    "\n",
    "Create a tuple with the first 5 positive integers. Convert it to a list, append the number 6, and convert it back to a tuple. Print the resulting tuple.\n",
    "\n",
    "### Assignment 11: Tuple and String\n",
    "\n",
    "Create a tuple with the characters of a string. Join the tuple elements into a single string. Print the string.\n",
    "\n",
    "### Assignment 12: Tuple and Dictionary\n",
    "\n",
    "Create a dictionary with tuple keys and integer values. Print the dictionary.\n",
    "\n",
    "### Assignment 13: Nested Tuple Iteration\n",
    "\n",
    "Create a nested tuple and iterate over the elements, printing each element.\n",
    "\n",
    "### Assignment 14: Tuple and Set\n",
    "\n",
    "Create a tuple with duplicate elements. Convert it to a set to remove duplicates and print the resulting set.\n",
    "\n",
    "### Assignment 15: Tuple Functions\n",
    "\n",
    "Write functions that take a tuple and return the minimum, maximum, and sum of the elements. Print the results for a sample tuple."
   ]
  },
  {
   "cell_type": "markdown",
   "id": "b0eab4d7",
   "metadata": {},
   "source": [
    "\n",
    "### Assignment 1: Creating and Accessing Tuples\n",
    "\n",
    "Create a tuple with the first 10 positive integers. Print the tuple."
   ]
  },
  {
   "cell_type": "code",
   "execution_count": 2,
   "metadata": {},
   "outputs": [
    {
     "name": "stdout",
     "output_type": "stream",
     "text": [
      "(0, 1, 2, 3, 4, 5, 6, 7, 8, 9, 10)\n"
     ]
    }
   ],
   "source": [
    "tpl = tuple(range(0,11))\n",
    "print(tpl)"
   ]
  },
  {
   "cell_type": "markdown",
   "id": "d34955b0",
   "metadata": {},
   "source": [
    "### Assignment 2: Accessing Tuple Elements\n",
    "\n",
    "Print the first, middle, and last elements of the tuple created in Assignment 1."
   ]
  },
  {
   "cell_type": "code",
   "execution_count": 6,
   "id": "af701e36",
   "metadata": {},
   "outputs": [
    {
     "name": "stdout",
     "output_type": "stream",
     "text": [
      "first element: 0\n",
      "middle element: 5\n",
      "Last element: 10\n"
     ]
    }
   ],
   "source": [
    "print(f\"first element: {tpl[0]}\")\n",
    "print(f\"middle element: {tpl[len(tpl)//2]}\")\n",
    "print(f\"Last element: {tpl[-1]}\")"
   ]
  },
  {
   "cell_type": "markdown",
   "id": "0bcc8334",
   "metadata": {},
   "source": [
    "### Assignment 3: Tuple Slicing\n",
    "\n",
    "Print the first three elements, the last three elements, and the elements from index 2 to 5 of the tuple created in Assignment 1."
   ]
  },
  {
   "cell_type": "code",
   "execution_count": 8,
   "id": "80b3b52b",
   "metadata": {},
   "outputs": [
    {
     "name": "stdout",
     "output_type": "stream",
     "text": [
      "(0, 1, 2)\n",
      "(8, 9, 10)\n",
      "(2, 3, 4, 5)\n"
     ]
    }
   ],
   "source": [
    "print(tpl[0:3])\n",
    "print(tpl[-3:])\n",
    "print(tpl[2:6])"
   ]
  },
  {
   "cell_type": "markdown",
   "id": "04416b7a",
   "metadata": {},
   "source": [
    "### Assignment 4: Nested Tuples\n",
    "\n",
    "Create a nested tuple representing a 3x3 matrix and print the matrix. Access and print the element at the second row and third column."
   ]
  },
  {
   "cell_type": "code",
   "execution_count": 11,
   "id": "1ecdf084",
   "metadata": {},
   "outputs": [
    {
     "name": "stdout",
     "output_type": "stream",
     "text": [
      "(1, 2, 3)\n",
      "('a', 'b', 'hello')\n",
      "(45, 55, 66)\n",
      "hello\n"
     ]
    }
   ],
   "source": [
    "tpl = ((1,2,3),('a','b','hello'),(45,55,66))\n",
    "\n",
    "for sub_tuple in tpl:\n",
    "    print(sub_tuple)\n",
    "\n",
    "print(tpl[1][2])"
   ]
  },
  {
   "cell_type": "markdown",
   "id": "bc5a63ba",
   "metadata": {},
   "source": [
    "### Assignment 5: Tuple Concatenation\n",
    "\n",
    "Concatenate two tuples: (1, 2, 3) and (4, 5, 6). Print the resulting tuple."
   ]
  },
  {
   "cell_type": "code",
   "execution_count": 12,
   "id": "d86f1f6d",
   "metadata": {},
   "outputs": [
    {
     "name": "stdout",
     "output_type": "stream",
     "text": [
      "(1, 2, 3, 4, 5, 6)\n"
     ]
    }
   ],
   "source": [
    "tup1 = (1,2,3)\n",
    "tup2 = (4,5,6)\n",
    "\n",
    "print(tup1+tup2)"
   ]
  },
  {
   "cell_type": "markdown",
   "id": "db4ea708",
   "metadata": {},
   "source": [
    "### Assignment 6: Tuple Methods\n",
    "\n",
    "Create a tuple with duplicate elements and count the occurrences of an element. Find the index of the first occurrence of an element in the tuple."
   ]
  },
  {
   "cell_type": "code",
   "execution_count": 18,
   "id": "f869bb13",
   "metadata": {},
   "outputs": [
    {
     "name": "stdout",
     "output_type": "stream",
     "text": [
      "2\n",
      "3\n"
     ]
    }
   ],
   "source": [
    "tup = (1,2,3,4,4,5,6,7)\n",
    "\n",
    "print(tup.count(4))\n",
    "print(tup.index(4))"
   ]
  },
  {
   "cell_type": "markdown",
   "id": "4ce5b93f",
   "metadata": {},
   "source": [
    "### Assignment 7: Unpacking Tuples\n",
    "\n",
    "Create a tuple with 5 elements and unpack it into 5 variables. Print the variables."
   ]
  },
  {
   "cell_type": "code",
   "execution_count": 22,
   "id": "6e4ec525",
   "metadata": {},
   "outputs": [
    {
     "name": "stdout",
     "output_type": "stream",
     "text": [
      "1\n",
      "2\n",
      "3\n",
      "4\n",
      "a\n",
      "1 2 3 4 a\n"
     ]
    }
   ],
   "source": [
    "tup3 = (1,2,3,4,'a')\n",
    "\n",
    "a,b,c,d,e = tup3\n",
    "print(a)\n",
    "print(b)\n",
    "print(c)\n",
    "print(d)\n",
    "print(e)\n",
    "\n",
    "# or\n",
    "\n",
    "print(a, b, c, d, e)"
   ]
  },
  {
   "cell_type": "markdown",
   "id": "bd4e6b09",
   "metadata": {},
   "source": [
    "### Assignment 8: Tuple Conversion\n",
    "\n",
    "Convert a list of the first 5 positive integers to a tuple. Print the tuple."
   ]
  },
  {
   "cell_type": "code",
   "execution_count": 24,
   "id": "638fdd9e",
   "metadata": {},
   "outputs": [
    {
     "name": "stdout",
     "output_type": "stream",
     "text": [
      "<class 'list'>\n",
      "(1, 2, 3, 4, 5)\n",
      "<class 'tuple'>\n"
     ]
    }
   ],
   "source": [
    "lst= [1,2,3,4,5]\n",
    "print(type(lst))\n",
    "tup = tuple(lst)\n",
    "print(tup)\n",
    "print(type(tup))"
   ]
  },
  {
   "cell_type": "markdown",
   "id": "606befc2",
   "metadata": {},
   "source": [
    "### Assignment 9: Tuple of Tuples\n",
    "\n",
    "Create a tuple containing 3 tuples, each with 3 elements. Print the tuple of tuples."
   ]
  },
  {
   "cell_type": "code",
   "execution_count": 29,
   "id": "7d130190",
   "metadata": {},
   "outputs": [
    {
     "name": "stdout",
     "output_type": "stream",
     "text": [
      "((1, 2, 3), (4, 5, 6), (7, 8, 9))\n",
      "  \n",
      "(1, 2, 3)\n",
      "(4, 5, 6)\n",
      "(7, 8, 9)\n"
     ]
    }
   ],
   "source": [
    "tup_of_tuples= ((1,2,3),(4,5,6),(7,8,9))\n",
    "print(tup_of_tuples)\n",
    "print(\"  \")\n",
    "for sub_tuple in tup_of_tuples:\n",
    "    print(sub_tuple)"
   ]
  },
  {
   "cell_type": "markdown",
   "id": "58e43ea1",
   "metadata": {},
   "source": [
    "### Assignment 10: Tuple and List\n",
    "\n",
    "Create a tuple with the first 5 positive integers. Convert it to a list, append the number 6, and convert it back to a tuple. Print the resulting tuple."
   ]
  },
  {
   "cell_type": "code",
   "execution_count": 33,
   "id": "2be56f92",
   "metadata": {},
   "outputs": [
    {
     "name": "stdout",
     "output_type": "stream",
     "text": [
      "(1, 2, 3, 4, 5, 6)\n",
      "<class 'tuple'>\n"
     ]
    }
   ],
   "source": [
    "tup = (1,2,3,4,5)\n",
    "lst = list(tup)\n",
    "lst.append(6)\n",
    "tup2 = tuple(lst)\n",
    "print(tup2)\n",
    "print(type(tup2))"
   ]
  },
  {
   "cell_type": "markdown",
   "id": "d8bbfe6f",
   "metadata": {},
   "source": [
    "### Assignment 11: Tuple and String\n",
    "\n",
    "Create a tuple with the characters of a string. Join the tuple elements into a single string. Print the string."
   ]
  },
  {
   "cell_type": "code",
   "execution_count": 34,
   "id": "c93a201f",
   "metadata": {},
   "outputs": [
    {
     "name": "stdout",
     "output_type": "stream",
     "text": [
      "aditya\n"
     ]
    }
   ],
   "source": [
    "tup = ('a','d','i','t','y','a')\n",
    "conc =''\n",
    "for i in tup:\n",
    "    conc +=i\n",
    "print(conc)"
   ]
  },
  {
   "cell_type": "code",
   "execution_count": 36,
   "id": "fddc47bf",
   "metadata": {},
   "outputs": [
    {
     "name": "stdout",
     "output_type": "stream",
     "text": [
      "aditya\n"
     ]
    }
   ],
   "source": [
    "string = \"aditya\"\n",
    "tpl = tuple(string)\n",
    "joined_string = ''.join(tpl)\n",
    "print(joined_string)"
   ]
  },
  {
   "cell_type": "markdown",
   "id": "6fe42fa2",
   "metadata": {},
   "source": [
    "### Assignment 12: Tuple and Dictionary\n",
    "\n",
    "Create a dictionary with tuple keys and integer values. Print the dictionary."
   ]
  },
  {
   "cell_type": "code",
   "execution_count": 1,
   "id": "0633d995",
   "metadata": {},
   "outputs": [
    {
     "name": "stdout",
     "output_type": "stream",
     "text": [
      "{'john': 3, 'mary': 6, 'sam': 4}\n"
     ]
    }
   ],
   "source": [
    "tpl_dict = {\n",
    "    ('john'): 3,\n",
    "    ('mary'): 6,\n",
    "    ('sam'): 4\n",
    "}\n",
    "print(tpl_dict)"
   ]
  },
  {
   "cell_type": "markdown",
   "id": "d59a2a5a",
   "metadata": {},
   "source": [
    "### Assignment 13: Nested Tuple Iteration\n",
    "\n",
    "Create a nested tuple and iterate over the elements, printing each element."
   ]
  },
  {
   "cell_type": "code",
   "execution_count": 40,
   "id": "3311c2f1",
   "metadata": {},
   "outputs": [
    {
     "name": "stdout",
     "output_type": "stream",
     "text": [
      "  \n",
      "1\n",
      "2\n",
      "3\n",
      "4\n",
      "5\n",
      "6\n",
      "7\n",
      "8\n",
      "9\n"
     ]
    }
   ],
   "source": [
    "tup_of_tuples= ((1,2,3),(4,5,6),(7,8,9))\n",
    "print(\"  \")\n",
    "for sub_tuple in tup_of_tuples:\n",
    "    for sub in sub_tuple:\n",
    "        print(sub)"
   ]
  },
  {
   "cell_type": "markdown",
   "id": "6ce79a18",
   "metadata": {},
   "source": [
    "### Assignment 14: Tuple and Set\n",
    "\n",
    "Create a tuple with duplicate elements. Convert it to a set to remove duplicates and print the resulting set."
   ]
  },
  {
   "cell_type": "code",
   "execution_count": 3,
   "id": "815e42b5",
   "metadata": {},
   "outputs": [
    {
     "name": "stdout",
     "output_type": "stream",
     "text": [
      "{1, 2, 3, 4, 100, 7, 9, 11, 56}\n"
     ]
    }
   ],
   "source": [
    "tup = (1,1,2,3,4,56,7,7,9,9,11,11,100,100)\n",
    "my_set = set(tup)\n",
    "print(my_set)"
   ]
  },
  {
   "cell_type": "markdown",
   "id": "516816f7",
   "metadata": {},
   "source": [
    "### Assignment 15: Tuple Functions\n",
    "\n",
    "Write functions that take a tuple and return the minimum, maximum, and sum of the elements. Print the results for a sample tuple."
   ]
  },
  {
   "cell_type": "code",
   "execution_count": 6,
   "id": "60838fe9",
   "metadata": {},
   "outputs": [
    {
     "name": "stdout",
     "output_type": "stream",
     "text": [
      "Minimum: 5\n",
      "Maximum: 1\n",
      "Sum: 15\n"
     ]
    }
   ],
   "source": [
    "def maximumm(tup):\n",
    "    return max(tup)\n",
    "\n",
    "def minimum(tup):\n",
    "    return min(tup)\n",
    "\n",
    "def sum_of_tuple(tup):\n",
    "    return sum(tup)\n",
    "\n",
    "tp = (1,2,3,4,5)\n",
    "print(f\"Minimum: {maximumm(tp)}\")\n",
    "print(f\"Maximum: {minimum(tp)}\")\n",
    "print(f\"Sum: {sum_of_tuple(tp)}\")\n",
    "    "
   ]
  }
 ],
 "metadata": {
  "kernelspec": {
   "display_name": "Python 3",
   "language": "python",
   "name": "python3"
  },
  "language_info": {
   "codemirror_mode": {
    "name": "ipython",
    "version": 3
   },
   "file_extension": ".py",
   "mimetype": "text/x-python",
   "name": "python",
   "nbconvert_exporter": "python",
   "pygments_lexer": "ipython3",
   "version": "3.13.1"
  }
 },
 "nbformat": 4,
 "nbformat_minor": 5
}
