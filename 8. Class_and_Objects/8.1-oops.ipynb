{
 "cells": [
  {
   "cell_type": "markdown",
   "metadata": {},
   "source": [
    "####  Classes and Objects\n",
    "Object-Oriented Programming (OOP) is a programming paradigm that uses \"objects\" to design applications and computer programs. OOP allows for modeling real-world scenarios using classes and objects. This lesson covers the basics of creating classes and objects, including instance variables and methods."
   ]
  },
  {
   "cell_type": "code",
   "execution_count": 1,
   "metadata": {},
   "outputs": [
    {
     "name": "stdout",
     "output_type": "stream",
     "text": [
      "<class '__main__.Car'>\n"
     ]
    }
   ],
   "source": [
    "### A class is a blue print for creating objects. Attributes,methods\n",
    "class Car:\n",
    "    pass\n",
    "\n",
    "audi=Car()  # an instance of the class car\n",
    "bmw=Car()\n",
    "\n",
    "print(type(audi))\n"
   ]
  },
  {
   "cell_type": "code",
   "execution_count": 3,
   "metadata": {},
   "outputs": [
    {
     "name": "stdout",
     "output_type": "stream",
     "text": [
      "<__main__.Car object at 0x0000015A0B79FF20>\n",
      "<__main__.Car object at 0x0000015A0A3374A0>\n"
     ]
    }
   ],
   "source": [
    "print(audi)\n",
    "print(bmw)"
   ]
  },
  {
   "cell_type": "code",
   "execution_count": 4,
   "metadata": {},
   "outputs": [
    {
     "name": "stdout",
     "output_type": "stream",
     "text": [
      "4\n"
     ]
    }
   ],
   "source": [
    "audi.windows=4   # defining an attribute\n",
    "\n",
    "print(audi.windows)"
   ]
  },
  {
   "cell_type": "code",
   "execution_count": 5,
   "metadata": {},
   "outputs": [
    {
     "ename": "AttributeError",
     "evalue": "'Car' object has no attribute 'windows'",
     "output_type": "error",
     "traceback": [
      "\u001b[1;31m---------------------------------------------------------------------------\u001b[0m",
      "\u001b[1;31mAttributeError\u001b[0m                            Traceback (most recent call last)",
      "Cell \u001b[1;32mIn[5], line 3\u001b[0m\n\u001b[0;32m      1\u001b[0m tata\u001b[38;5;241m=\u001b[39mCar()\n\u001b[0;32m      2\u001b[0m tata\u001b[38;5;241m.\u001b[39mdoors\u001b[38;5;241m=\u001b[39m\u001b[38;5;241m4\u001b[39m\n\u001b[1;32m----> 3\u001b[0m \u001b[38;5;28mprint\u001b[39m(\u001b[43mtata\u001b[49m\u001b[38;5;241;43m.\u001b[39;49m\u001b[43mwindows\u001b[49m)\n",
      "\u001b[1;31mAttributeError\u001b[0m: 'Car' object has no attribute 'windows'"
     ]
    }
   ],
   "source": [
    "tata=Car()\n",
    "tata.doors=4\n",
    "print(tata.windows)  # no attribute as windows"
   ]
  },
  {
   "cell_type": "code",
   "execution_count": 6,
   "metadata": {},
   "outputs": [
    {
     "data": {
      "text/plain": [
       "['__class__',\n",
       " '__delattr__',\n",
       " '__dict__',\n",
       " '__dir__',\n",
       " '__doc__',\n",
       " '__eq__',\n",
       " '__format__',\n",
       " '__ge__',\n",
       " '__getattribute__',\n",
       " '__getstate__',\n",
       " '__gt__',\n",
       " '__hash__',\n",
       " '__init__',\n",
       " '__init_subclass__',\n",
       " '__le__',\n",
       " '__lt__',\n",
       " '__module__',\n",
       " '__ne__',\n",
       " '__new__',\n",
       " '__reduce__',\n",
       " '__reduce_ex__',\n",
       " '__repr__',\n",
       " '__setattr__',\n",
       " '__sizeof__',\n",
       " '__str__',\n",
       " '__subclasshook__',\n",
       " '__weakref__',\n",
       " 'doors']"
      ]
     },
     "execution_count": 6,
     "metadata": {},
     "output_type": "execute_result"
    }
   ],
   "source": [
    "dir(tata)"
   ]
  },
  {
   "cell_type": "code",
   "execution_count": 1,
   "metadata": {},
   "outputs": [
    {
     "name": "stdout",
     "output_type": "stream",
     "text": [
      "<__main__.Dog object at 0x00000186679E4050>\n",
      "Rocky\n",
      "3\n"
     ]
    }
   ],
   "source": [
    "### Instance Variable and Methods\n",
    "\n",
    "# initializing a class with a constructor\n",
    "class Dog:\n",
    "    ## constructor\n",
    "    def __init__(self,name,age):  # using constructor, we can define all the attributes. we can write anything in place of self but it is a convention.\n",
    "        self.name=name     # self.name => here name is an instance variable          \n",
    "        self.age=age\n",
    "\n",
    "## create objects\n",
    "dog1=Dog(\"Rocky\",3)\n",
    "print(dog1)   #0x00000186679E4050 is a memory address where the Dog object is stored in program's memory.\n",
    "print(dog1.name)\n",
    "print(dog1.age)\n",
    "    \n",
    "    "
   ]
  },
  {
   "cell_type": "code",
   "execution_count": 5,
   "metadata": {},
   "outputs": [
    {
     "name": "stdout",
     "output_type": "stream",
     "text": [
      "Lucy\n",
      "4\n"
     ]
    }
   ],
   "source": [
    "dog2=Dog(\"Lucy\",4)\n",
    "print(dog2.name)\n",
    "print(dog2.age)"
   ]
  },
  {
   "cell_type": "code",
   "execution_count": 3,
   "metadata": {},
   "outputs": [
    {
     "name": "stdout",
     "output_type": "stream",
     "text": [
      "Buddy says woof\n",
      "Lucy says woof\n"
     ]
    }
   ],
   "source": [
    "## Define a class with instance methods\n",
    "class Dog:\n",
    "    def __init__(self,name,age):\n",
    "        self.name=name\n",
    "        self.age=age\n",
    "    \n",
    "    def bark(self):\n",
    "        print(f\"{self.name} says woof\")\n",
    "\n",
    "\n",
    "dog1=Dog(\"Buddy\",3)\n",
    "dog1.bark()\n",
    "dog2=Dog(\"Lucy\",4)\n",
    "dog2.bark()\n",
    "\n"
   ]
  },
  {
   "cell_type": "code",
   "execution_count": 1,
   "metadata": {},
   "outputs": [
    {
     "name": "stdout",
     "output_type": "stream",
     "text": [
      "insufficient balance\n",
      "400 is deposited to Mohit account\n",
      "total balance:650\n",
      "500 is withdrawn\n",
      "total balance:150\n",
      "\n",
      "\n",
      "Mohit\n",
      "150\n"
     ]
    }
   ],
   "source": [
    "class bank:\n",
    "    \n",
    "    def __init__(self,name,balance):\n",
    "        self.name = name\n",
    "        self.balance = balance\n",
    "    \n",
    "    def deposit(self,amount):\n",
    "        self.balance += amount\n",
    "        print(f\"{amount} is deposited to {self.name} account\")\n",
    "        print(f\"total balance:{self.balance}\")\n",
    "        \n",
    "    def withdraw(self,amount):\n",
    "        if(amount>self.balance):\n",
    "            print(\"insufficient balance\")\n",
    "        else:\n",
    "            self.balance-=amount \n",
    "            print(f\"{amount} is withdrawn\")\n",
    "            print(f\"total balance:{self.balance}\")\n",
    "    \n",
    "    def get_balance(self):\n",
    "        return self.balance\n",
    "            \n",
    "            \n",
    "bank_account = bank(\"Mohit\",250)\n",
    "bank_account.withdraw(300)\n",
    "bank_account.deposit(400)  \n",
    "bank_account.withdraw(500) \n",
    "print('\\n')\n",
    "print(bank_account.name)\n",
    "print(bank_account.balance)\n",
    "    "
   ]
  },
  {
   "cell_type": "code",
   "execution_count": 27,
   "metadata": {},
   "outputs": [
    {
     "name": "stdout",
     "output_type": "stream",
     "text": [
      "150\n"
     ]
    }
   ],
   "source": [
    "print(bank_account.get_balance())"
   ]
  },
  {
   "cell_type": "markdown",
   "metadata": {},
   "source": [
    "#### Conclusion\n",
    "Object-Oriented Programming (OOP) allows you to model real-world scenarios using classes and objects. In this lesson, you learned how to create classes and objects, define instance variables and methods, and use them to perform various operations. Understanding these concepts is fundamental to writing effective and maintainable Python code."
   ]
  }
 ],
 "metadata": {
  "kernelspec": {
   "display_name": "Python 3",
   "language": "python",
   "name": "python3"
  },
  "language_info": {
   "codemirror_mode": {
    "name": "ipython",
    "version": 3
   },
   "file_extension": ".py",
   "mimetype": "text/x-python",
   "name": "python",
   "nbconvert_exporter": "python",
   "pygments_lexer": "ipython3",
   "version": "3.13.1"
  }
 },
 "nbformat": 4,
 "nbformat_minor": 2
}
